{
  "nbformat": 4,
  "nbformat_minor": 0,
  "metadata": {
    "colab": {
      "provenance": []
    },
    "kernelspec": {
      "name": "python3",
      "display_name": "Python 3"
    },
    "language_info": {
      "name": "python"
    }
  },
  "cells": [
    {
      "cell_type": "code",
      "execution_count": 1,
      "metadata": {
        "colab": {
          "base_uri": "https://localhost:8080/"
        },
        "id": "n91TXreMmi-N",
        "outputId": "58325355-8a4b-49f2-8368-b1a611768cbb"
      },
      "outputs": [
        {
          "output_type": "stream",
          "name": "stdout",
          "text": [
            "Requirement already satisfied: tensorflow in /usr/local/lib/python3.10/dist-packages (2.15.0)\n",
            "Requirement already satisfied: absl-py>=1.0.0 in /usr/local/lib/python3.10/dist-packages (from tensorflow) (1.4.0)\n",
            "Requirement already satisfied: astunparse>=1.6.0 in /usr/local/lib/python3.10/dist-packages (from tensorflow) (1.6.3)\n",
            "Requirement already satisfied: flatbuffers>=23.5.26 in /usr/local/lib/python3.10/dist-packages (from tensorflow) (23.5.26)\n",
            "Requirement already satisfied: gast!=0.5.0,!=0.5.1,!=0.5.2,>=0.2.1 in /usr/local/lib/python3.10/dist-packages (from tensorflow) (0.5.4)\n",
            "Requirement already satisfied: google-pasta>=0.1.1 in /usr/local/lib/python3.10/dist-packages (from tensorflow) (0.2.0)\n",
            "Requirement already satisfied: h5py>=2.9.0 in /usr/local/lib/python3.10/dist-packages (from tensorflow) (3.9.0)\n",
            "Requirement already satisfied: libclang>=13.0.0 in /usr/local/lib/python3.10/dist-packages (from tensorflow) (16.0.6)\n",
            "Requirement already satisfied: ml-dtypes~=0.2.0 in /usr/local/lib/python3.10/dist-packages (from tensorflow) (0.2.0)\n",
            "Requirement already satisfied: numpy<2.0.0,>=1.23.5 in /usr/local/lib/python3.10/dist-packages (from tensorflow) (1.23.5)\n",
            "Requirement already satisfied: opt-einsum>=2.3.2 in /usr/local/lib/python3.10/dist-packages (from tensorflow) (3.3.0)\n",
            "Requirement already satisfied: packaging in /usr/local/lib/python3.10/dist-packages (from tensorflow) (23.2)\n",
            "Requirement already satisfied: protobuf!=4.21.0,!=4.21.1,!=4.21.2,!=4.21.3,!=4.21.4,!=4.21.5,<5.0.0dev,>=3.20.3 in /usr/local/lib/python3.10/dist-packages (from tensorflow) (3.20.3)\n",
            "Requirement already satisfied: setuptools in /usr/local/lib/python3.10/dist-packages (from tensorflow) (67.7.2)\n",
            "Requirement already satisfied: six>=1.12.0 in /usr/local/lib/python3.10/dist-packages (from tensorflow) (1.16.0)\n",
            "Requirement already satisfied: termcolor>=1.1.0 in /usr/local/lib/python3.10/dist-packages (from tensorflow) (2.4.0)\n",
            "Requirement already satisfied: typing-extensions>=3.6.6 in /usr/local/lib/python3.10/dist-packages (from tensorflow) (4.5.0)\n",
            "Requirement already satisfied: wrapt<1.15,>=1.11.0 in /usr/local/lib/python3.10/dist-packages (from tensorflow) (1.14.1)\n",
            "Requirement already satisfied: tensorflow-io-gcs-filesystem>=0.23.1 in /usr/local/lib/python3.10/dist-packages (from tensorflow) (0.34.0)\n",
            "Requirement already satisfied: grpcio<2.0,>=1.24.3 in /usr/local/lib/python3.10/dist-packages (from tensorflow) (1.60.0)\n",
            "Requirement already satisfied: tensorboard<2.16,>=2.15 in /usr/local/lib/python3.10/dist-packages (from tensorflow) (2.15.1)\n",
            "Requirement already satisfied: tensorflow-estimator<2.16,>=2.15.0 in /usr/local/lib/python3.10/dist-packages (from tensorflow) (2.15.0)\n",
            "Requirement already satisfied: keras<2.16,>=2.15.0 in /usr/local/lib/python3.10/dist-packages (from tensorflow) (2.15.0)\n",
            "Requirement already satisfied: wheel<1.0,>=0.23.0 in /usr/local/lib/python3.10/dist-packages (from astunparse>=1.6.0->tensorflow) (0.42.0)\n",
            "Requirement already satisfied: google-auth<3,>=1.6.3 in /usr/local/lib/python3.10/dist-packages (from tensorboard<2.16,>=2.15->tensorflow) (2.17.3)\n",
            "Requirement already satisfied: google-auth-oauthlib<2,>=0.5 in /usr/local/lib/python3.10/dist-packages (from tensorboard<2.16,>=2.15->tensorflow) (1.2.0)\n",
            "Requirement already satisfied: markdown>=2.6.8 in /usr/local/lib/python3.10/dist-packages (from tensorboard<2.16,>=2.15->tensorflow) (3.5.1)\n",
            "Requirement already satisfied: requests<3,>=2.21.0 in /usr/local/lib/python3.10/dist-packages (from tensorboard<2.16,>=2.15->tensorflow) (2.31.0)\n",
            "Requirement already satisfied: tensorboard-data-server<0.8.0,>=0.7.0 in /usr/local/lib/python3.10/dist-packages (from tensorboard<2.16,>=2.15->tensorflow) (0.7.2)\n",
            "Requirement already satisfied: werkzeug>=1.0.1 in /usr/local/lib/python3.10/dist-packages (from tensorboard<2.16,>=2.15->tensorflow) (3.0.1)\n",
            "Requirement already satisfied: cachetools<6.0,>=2.0.0 in /usr/local/lib/python3.10/dist-packages (from google-auth<3,>=1.6.3->tensorboard<2.16,>=2.15->tensorflow) (5.3.2)\n",
            "Requirement already satisfied: pyasn1-modules>=0.2.1 in /usr/local/lib/python3.10/dist-packages (from google-auth<3,>=1.6.3->tensorboard<2.16,>=2.15->tensorflow) (0.3.0)\n",
            "Requirement already satisfied: rsa<5,>=3.1.4 in /usr/local/lib/python3.10/dist-packages (from google-auth<3,>=1.6.3->tensorboard<2.16,>=2.15->tensorflow) (4.9)\n",
            "Requirement already satisfied: requests-oauthlib>=0.7.0 in /usr/local/lib/python3.10/dist-packages (from google-auth-oauthlib<2,>=0.5->tensorboard<2.16,>=2.15->tensorflow) (1.3.1)\n",
            "Requirement already satisfied: charset-normalizer<4,>=2 in /usr/local/lib/python3.10/dist-packages (from requests<3,>=2.21.0->tensorboard<2.16,>=2.15->tensorflow) (3.3.2)\n",
            "Requirement already satisfied: idna<4,>=2.5 in /usr/local/lib/python3.10/dist-packages (from requests<3,>=2.21.0->tensorboard<2.16,>=2.15->tensorflow) (3.6)\n",
            "Requirement already satisfied: urllib3<3,>=1.21.1 in /usr/local/lib/python3.10/dist-packages (from requests<3,>=2.21.0->tensorboard<2.16,>=2.15->tensorflow) (2.0.7)\n",
            "Requirement already satisfied: certifi>=2017.4.17 in /usr/local/lib/python3.10/dist-packages (from requests<3,>=2.21.0->tensorboard<2.16,>=2.15->tensorflow) (2023.11.17)\n",
            "Requirement already satisfied: MarkupSafe>=2.1.1 in /usr/local/lib/python3.10/dist-packages (from werkzeug>=1.0.1->tensorboard<2.16,>=2.15->tensorflow) (2.1.3)\n",
            "Requirement already satisfied: pyasn1<0.6.0,>=0.4.6 in /usr/local/lib/python3.10/dist-packages (from pyasn1-modules>=0.2.1->google-auth<3,>=1.6.3->tensorboard<2.16,>=2.15->tensorflow) (0.5.1)\n",
            "Requirement already satisfied: oauthlib>=3.0.0 in /usr/local/lib/python3.10/dist-packages (from requests-oauthlib>=0.7.0->google-auth-oauthlib<2,>=0.5->tensorboard<2.16,>=2.15->tensorflow) (3.2.2)\n"
          ]
        }
      ],
      "source": [
        "pip install tensorflow"
      ]
    },
    {
      "cell_type": "code",
      "source": [
        "import os\n",
        "import gdown\n",
        "import tarfile\n",
        "import zipfile\n",
        "import tensorflow as tf\n",
        "from PIL import Image\n",
        "from tensorflow.keras.models import Sequential\n",
        "from tensorflow.keras.layers import Conv2D, MaxPooling2D, Flatten, Dropout, Dense, Dropout\n",
        "from tensorflow.keras.optimizers import Adam\n",
        "from tensorflow.keras.preprocessing.image import ImageDataGenerator\n",
        "from tensorflow.keras.layers import BatchNormalization\n",
        "from tensorflow.keras.preprocessing.image import ImageDataGenerator\n",
        "from sklearn.model_selection import train_test_split\n"
      ],
      "metadata": {
        "id": "EFK3ruU1mz-h"
      },
      "execution_count": 23,
      "outputs": []
    },
    {
      "cell_type": "code",
      "source": [
        "file_id = '1ZxhBdiosr3KM7QyXT54B6XXi7VLuqJPH'\n",
        "file_url = f'https://drive.google.com/uc?id={file_id}'"
      ],
      "metadata": {
        "id": "gAowcWFbm3x7"
      },
      "execution_count": 3,
      "outputs": []
    },
    {
      "cell_type": "code",
      "source": [
        "destination_dir = '/content/images'\n",
        "os.makedirs(destination_dir, exist_ok=True)"
      ],
      "metadata": {
        "id": "RlUi1Lrbm6zx"
      },
      "execution_count": 4,
      "outputs": []
    },
    {
      "cell_type": "code",
      "source": [
        "zip_file_path = os.path.join(destination_dir, 'images.zip')\n",
        "gdown.download(file_url, zip_file_path, quiet=False)"
      ],
      "metadata": {
        "colab": {
          "base_uri": "https://localhost:8080/",
          "height": 105
        },
        "id": "RhJEXMiqm9Qm",
        "outputId": "65c31ae5-401a-4961-d9f9-b94816bd5906"
      },
      "execution_count": 5,
      "outputs": [
        {
          "output_type": "stream",
          "name": "stderr",
          "text": [
            "Downloading...\n",
            "From: https://drive.google.com/uc?id=1ZxhBdiosr3KM7QyXT54B6XXi7VLuqJPH\n",
            "To: /content/images/images.zip\n",
            "100%|██████████| 354M/354M [00:07<00:00, 45.7MB/s]\n"
          ]
        },
        {
          "output_type": "execute_result",
          "data": {
            "text/plain": [
              "'/content/images/images.zip'"
            ],
            "application/vnd.google.colaboratory.intrinsic+json": {
              "type": "string"
            }
          },
          "metadata": {},
          "execution_count": 5
        }
      ]
    },
    {
      "cell_type": "code",
      "source": [
        "if zip_file_path.endswith('.zip'):\n",
        "    with zipfile.ZipFile(zip_file_path, 'r') as zip_ref:\n",
        "        zip_ref.extractall(destination_dir)\n",
        "elif zip_file_path.endswith(('.tar', '.tar.gz', '.tgz')):\n",
        "    with tarfile.open(zip_file_path, 'r') as tar_ref:\n",
        "        tar_ref.extractall(destination_dir)\n",
        "else:\n",
        "    print(f\"Unsupported file extension: {zip_file_path}\")"
      ],
      "metadata": {
        "id": "85HDGA_AnK6z"
      },
      "execution_count": 7,
      "outputs": []
    },
    {
      "cell_type": "code",
      "source": [
        "class CustomCallback(tf.keras.callbacks.Callback):\n",
        "    def on_epoch_end(self, epoch, logs=None):\n",
        "        if logs['accuracy'] > 0.95 and logs['val_accuracy'] > 0.7:\n",
        "            print(\"\\nReached desired accuracy, stopping training.\")\n",
        "            self.model.stop_training = True"
      ],
      "metadata": {
        "id": "e_ghf5e5nQRd"
      },
      "execution_count": 8,
      "outputs": []
    },
    {
      "cell_type": "code",
      "source": [
        "data_directory = '/content/images/datasets_character_anime'"
      ],
      "metadata": {
        "id": "AjoFEiFInU3d"
      },
      "execution_count": 9,
      "outputs": []
    },
    {
      "cell_type": "code",
      "source": [
        "image_filenames = [\n",
        "    os.path.join(data_directory, folder, filename)\n",
        "    for folder in os.listdir(data_directory)\n",
        "    if os.path.isdir(os.path.join(data_directory, folder))\n",
        "    for filename in os.listdir(os.path.join(data_directory, folder))\n",
        "    if filename.endswith(('.jpg', '.png', '.jpeg'))\n",
        "]"
      ],
      "metadata": {
        "id": "DVbzkYZSndJF"
      },
      "execution_count": 10,
      "outputs": []
    },
    {
      "cell_type": "code",
      "source": [
        "for filename in image_filenames:\n",
        "    img = Image.open(filename)\n",
        "    img = img.resize((128, 128))\n",
        "    img.save(filename)\n",
        "\n",
        "batch_size = 32\n",
        "datagen = ImageDataGenerator(\n",
        "    rescale=1./255,\n",
        "    rotation_range=40,\n",
        "    width_shift_range=0.2,\n",
        "    height_shift_range=0.2,\n",
        "    shear_range=0.2,\n",
        "    zoom_range=0.2,\n",
        "    horizontal_flip=True,\n",
        "    fill_mode='nearest',\n",
        "    validation_split=0.1\n",
        ")"
      ],
      "metadata": {
        "id": "JtNhVT7jngWu"
      },
      "execution_count": 11,
      "outputs": []
    },
    {
      "cell_type": "code",
      "source": [
        "class_names = list(train_generator.class_indices.keys())\n",
        "print(\"Class names:\", class_names)"
      ],
      "metadata": {
        "colab": {
          "base_uri": "https://localhost:8080/"
        },
        "id": "8kzROJ-fn2Cg",
        "outputId": "a00a3604-a879-4e07-992a-47b137f0ad1e"
      },
      "execution_count": 15,
      "outputs": [
        {
          "output_type": "stream",
          "name": "stdout",
          "text": [
            "Class names: ['Anya_Forger', 'Aquamarine_Hoshino', 'Ayaka_Genshin_Impact', 'Boa_Hancock', 'Charlotte_Genshin_Impact', 'Damian_Desmond', 'Dazai_Osamu_BSD', 'Ganyu_genshin', 'Gojo_Satoru', 'Jett_Valorant', 'Kafka_Honkai_Star_Rail', 'Keqing_genshin', 'Killjoy_Valorant', 'Kobo_kanaeru', 'Kugisaki_Nobara', 'Loid_Forger', 'Luffy_D_Monkey', 'Midoriya_Izuku', 'Minato_Aqua', 'Misa_Amane', 'Mitsuri_Kanroji', 'Nico_Robin', 'Nier_Automata_9S', 'Nier_Automata_A2', 'Raiden_Shogun_Genshin_Impact', 'Ruby_Hoshino', 'Sakura_Haruno', 'Todoroki_Shoto', 'Tokisaki_Kurumi', 'Uraraka_Ochako', 'Wanderer', 'Yor_Forger', 'Yuri_Briar', 'Zerotwo', 'Zoro', 'amelia_watson', 'arima_kousei', 'gawr_gura', 'hoshino_ai', 'hutao_genshin', 'mikasa', 'tanjiro', 'violet_evergarden', 'zeta_hololive']\n"
          ]
        }
      ]
    },
    {
      "cell_type": "code",
      "source": [
        "num_classes = 44"
      ],
      "metadata": {
        "id": "uoUHtWFrnslr"
      },
      "execution_count": 12,
      "outputs": []
    },
    {
      "cell_type": "code",
      "source": [
        "train_generator = datagen.flow_from_directory(\n",
        "    data_directory,\n",
        "    target_size=(128, 128),\n",
        "    class_mode='categorical',\n",
        "    subset='training',\n",
        "    shuffle=True,\n",
        "    batch_size=batch_size\n",
        ")"
      ],
      "metadata": {
        "colab": {
          "base_uri": "https://localhost:8080/"
        },
        "id": "OnvhTTUUnwAq",
        "outputId": "8e5b579a-dad4-4218-aaee-e3f63ead71cc"
      },
      "execution_count": 13,
      "outputs": [
        {
          "output_type": "stream",
          "name": "stdout",
          "text": [
            "Found 7302 images belonging to 44 classes.\n"
          ]
        }
      ]
    },
    {
      "cell_type": "code",
      "source": [
        "validation_generator = datagen.flow_from_directory(\n",
        "    data_directory,\n",
        "    target_size=(128, 128),\n",
        "    class_mode='categorical',\n",
        "    subset='validation',\n",
        "    shuffle=False,\n",
        "    batch_size=batch_size\n",
        ")"
      ],
      "metadata": {
        "colab": {
          "base_uri": "https://localhost:8080/"
        },
        "id": "tnCp3xXmny-a",
        "outputId": "ffc991f7-fba3-4e66-dca2-45b488316f43"
      },
      "execution_count": 14,
      "outputs": [
        {
          "output_type": "stream",
          "name": "stdout",
          "text": [
            "Found 791 images belonging to 44 classes.\n"
          ]
        }
      ]
    },
    {
      "cell_type": "code",
      "source": [
        "model = Sequential()\n",
        "model.add(Conv2D(filters=16, kernel_size=(3, 3), activation='relu', input_shape=(128, 128, 3)))\n",
        "model.add(MaxPooling2D())\n",
        "model.add(Conv2D(filters=32, kernel_size=(3, 3), activation='relu'))\n",
        "model.add(MaxPooling2D())\n",
        "model.add(Conv2D(filters=64, kernel_size=(3, 3), activation='relu'))\n",
        "model.add(MaxPooling2D())\n",
        "model.add(Conv2D(filters=128, kernel_size=(3, 3), activation='relu'))\n",
        "model.add(Flatten())\n",
        "model.add(Dropout(0.5))\n",
        "model.add(Dense(units=128, activation='relu'))\n",
        "model.add(Dense(units=64, activation='relu'))\n",
        "model.add(Dense(units=num_classes, activation='softmax'))"
      ],
      "metadata": {
        "id": "E1Lkwe7RoW0W"
      },
      "execution_count": 16,
      "outputs": []
    },
    {
      "cell_type": "code",
      "source": [
        "custom_optimizer = Adam(learning_rate=0.001)"
      ],
      "metadata": {
        "id": "Li82pEPKofMc"
      },
      "execution_count": 17,
      "outputs": []
    },
    {
      "cell_type": "code",
      "source": [
        "model.compile(optimizer=custom_optimizer, loss='categorical_crossentropy', metrics=['accuracy'])"
      ],
      "metadata": {
        "id": "ymX6fOYHoh2l"
      },
      "execution_count": 18,
      "outputs": []
    },
    {
      "cell_type": "code",
      "source": [
        "num_epochs = 100\n",
        "custom_callback = CustomCallback()\n",
        "\n",
        "model.fit(\n",
        "    train_generator,\n",
        "    validation_data=validation_generator,\n",
        "    steps_per_epoch=None,\n",
        "    validation_steps=None,\n",
        "    callbacks=[custom_callback],\n",
        "    epochs=num_epochs\n",
        ")\n",
        "\n",
        "model.save('new_anime_classificationL.h5')"
      ],
      "metadata": {
        "colab": {
          "base_uri": "https://localhost:8080/"
        },
        "id": "k2FFsyMWok0M",
        "outputId": "7a92ad22-4fed-4491-e178-eaf17bdccc8d"
      },
      "execution_count": 19,
      "outputs": [
        {
          "metadata": {
            "tags": null
          },
          "name": "stdout",
          "output_type": "stream",
          "text": [
            "Epoch 1/100\n",
            " 50/229 [=====>........................] - ETA: 1:00 - loss: 3.7641 - accuracy: 0.0254"
          ]
        },
        {
          "metadata": {
            "tags": null
          },
          "name": "stderr",
          "output_type": "stream",
          "text": [
            "/usr/local/lib/python3.10/dist-packages/PIL/Image.py:996: UserWarning: Palette images with Transparency expressed in bytes should be converted to RGBA images\n",
            "  warnings.warn(\n"
          ]
        },
        {
          "output_type": "stream",
          "name": "stdout",
          "text": [
            "229/229 [==============================] - 89s 382ms/step - loss: 3.6220 - accuracy: 0.0619 - val_loss: 3.3535 - val_accuracy: 0.1315\n",
            "Epoch 2/100\n",
            "229/229 [==============================] - 85s 373ms/step - loss: 3.2979 - accuracy: 0.1223 - val_loss: 2.9981 - val_accuracy: 0.1884\n",
            "Epoch 3/100\n",
            "229/229 [==============================] - 86s 374ms/step - loss: 3.0855 - accuracy: 0.1667 - val_loss: 2.8430 - val_accuracy: 0.2339\n",
            "Epoch 4/100\n",
            "229/229 [==============================] - 85s 373ms/step - loss: 2.9587 - accuracy: 0.1897 - val_loss: 2.7798 - val_accuracy: 0.2617\n",
            "Epoch 5/100\n",
            "229/229 [==============================] - 85s 368ms/step - loss: 2.8380 - accuracy: 0.2102 - val_loss: 2.6321 - val_accuracy: 0.2832\n",
            "Epoch 6/100\n",
            "229/229 [==============================] - 84s 365ms/step - loss: 2.7404 - accuracy: 0.2438 - val_loss: 2.4475 - val_accuracy: 0.2756\n",
            "Epoch 7/100\n",
            "229/229 [==============================] - 81s 353ms/step - loss: 2.6050 - accuracy: 0.2757 - val_loss: 2.2982 - val_accuracy: 0.3654\n",
            "Epoch 8/100\n",
            "229/229 [==============================] - 80s 348ms/step - loss: 2.4941 - accuracy: 0.3147 - val_loss: 2.2352 - val_accuracy: 0.3515\n",
            "Epoch 9/100\n",
            "229/229 [==============================] - 81s 351ms/step - loss: 2.3921 - accuracy: 0.3325 - val_loss: 2.0601 - val_accuracy: 0.4210\n",
            "Epoch 10/100\n",
            "229/229 [==============================] - 80s 351ms/step - loss: 2.2628 - accuracy: 0.3707 - val_loss: 2.0243 - val_accuracy: 0.4286\n",
            "Epoch 11/100\n",
            "229/229 [==============================] - 82s 359ms/step - loss: 2.1908 - accuracy: 0.3851 - val_loss: 1.9319 - val_accuracy: 0.4210\n",
            "Epoch 12/100\n",
            "229/229 [==============================] - 81s 350ms/step - loss: 2.1173 - accuracy: 0.4065 - val_loss: 1.8424 - val_accuracy: 0.4602\n",
            "Epoch 13/100\n",
            "229/229 [==============================] - 79s 343ms/step - loss: 2.0770 - accuracy: 0.4206 - val_loss: 1.8195 - val_accuracy: 0.4728\n",
            "Epoch 14/100\n",
            "229/229 [==============================] - 81s 352ms/step - loss: 2.0010 - accuracy: 0.4419 - val_loss: 1.7828 - val_accuracy: 0.4880\n",
            "Epoch 15/100\n",
            "229/229 [==============================] - 82s 360ms/step - loss: 1.9433 - accuracy: 0.4552 - val_loss: 1.8033 - val_accuracy: 0.4640\n",
            "Epoch 16/100\n",
            "229/229 [==============================] - 82s 357ms/step - loss: 1.9206 - accuracy: 0.4629 - val_loss: 1.8086 - val_accuracy: 0.4753\n",
            "Epoch 17/100\n",
            "229/229 [==============================] - 84s 366ms/step - loss: 1.8436 - accuracy: 0.4771 - val_loss: 1.6652 - val_accuracy: 0.5284\n",
            "Epoch 18/100\n",
            "229/229 [==============================] - 84s 366ms/step - loss: 1.8096 - accuracy: 0.4871 - val_loss: 1.6850 - val_accuracy: 0.5183\n",
            "Epoch 19/100\n",
            "229/229 [==============================] - 82s 356ms/step - loss: 1.7374 - accuracy: 0.5100 - val_loss: 1.5862 - val_accuracy: 0.5411\n",
            "Epoch 20/100\n",
            "229/229 [==============================] - 82s 357ms/step - loss: 1.7171 - accuracy: 0.5056 - val_loss: 1.6226 - val_accuracy: 0.5474\n",
            "Epoch 21/100\n",
            "229/229 [==============================] - 82s 359ms/step - loss: 1.6634 - accuracy: 0.5264 - val_loss: 1.5277 - val_accuracy: 0.5601\n",
            "Epoch 22/100\n",
            "229/229 [==============================] - 83s 361ms/step - loss: 1.6376 - accuracy: 0.5323 - val_loss: 1.5740 - val_accuracy: 0.5638\n",
            "Epoch 23/100\n",
            "229/229 [==============================] - 82s 359ms/step - loss: 1.6379 - accuracy: 0.5331 - val_loss: 1.5446 - val_accuracy: 0.5575\n",
            "Epoch 24/100\n",
            "229/229 [==============================] - 82s 358ms/step - loss: 1.5727 - accuracy: 0.5516 - val_loss: 1.4055 - val_accuracy: 0.5954\n",
            "Epoch 25/100\n",
            "229/229 [==============================] - 82s 358ms/step - loss: 1.5318 - accuracy: 0.5612 - val_loss: 1.4318 - val_accuracy: 0.5929\n",
            "Epoch 26/100\n",
            "229/229 [==============================] - 83s 363ms/step - loss: 1.4963 - accuracy: 0.5724 - val_loss: 1.5036 - val_accuracy: 0.5879\n",
            "Epoch 27/100\n",
            "229/229 [==============================] - 80s 349ms/step - loss: 1.4760 - accuracy: 0.5726 - val_loss: 1.4286 - val_accuracy: 0.6283\n",
            "Epoch 28/100\n",
            "229/229 [==============================] - 80s 348ms/step - loss: 1.4495 - accuracy: 0.5863 - val_loss: 1.3850 - val_accuracy: 0.6131\n",
            "Epoch 29/100\n",
            "229/229 [==============================] - 80s 347ms/step - loss: 1.4389 - accuracy: 0.5857 - val_loss: 1.3549 - val_accuracy: 0.6131\n",
            "Epoch 30/100\n",
            "229/229 [==============================] - 81s 354ms/step - loss: 1.4064 - accuracy: 0.5889 - val_loss: 1.4214 - val_accuracy: 0.6144\n",
            "Epoch 31/100\n",
            "229/229 [==============================] - 82s 357ms/step - loss: 1.3939 - accuracy: 0.5859 - val_loss: 1.4181 - val_accuracy: 0.5917\n",
            "Epoch 32/100\n",
            "229/229 [==============================] - 81s 354ms/step - loss: 1.3426 - accuracy: 0.6148 - val_loss: 1.2972 - val_accuracy: 0.6068\n",
            "Epoch 33/100\n",
            "229/229 [==============================] - 82s 358ms/step - loss: 1.3386 - accuracy: 0.6093 - val_loss: 1.3146 - val_accuracy: 0.6308\n",
            "Epoch 34/100\n",
            "229/229 [==============================] - 81s 352ms/step - loss: 1.3326 - accuracy: 0.6082 - val_loss: 1.2497 - val_accuracy: 0.6536\n",
            "Epoch 35/100\n",
            "229/229 [==============================] - 80s 349ms/step - loss: 1.3264 - accuracy: 0.6149 - val_loss: 1.2837 - val_accuracy: 0.6384\n",
            "Epoch 36/100\n",
            "229/229 [==============================] - 81s 352ms/step - loss: 1.3193 - accuracy: 0.6161 - val_loss: 1.3870 - val_accuracy: 0.6157\n",
            "Epoch 37/100\n",
            "229/229 [==============================] - 79s 345ms/step - loss: 1.2803 - accuracy: 0.6335 - val_loss: 1.2446 - val_accuracy: 0.6321\n",
            "Epoch 38/100\n",
            "229/229 [==============================] - 80s 350ms/step - loss: 1.2374 - accuracy: 0.6401 - val_loss: 1.3932 - val_accuracy: 0.6119\n",
            "Epoch 39/100\n",
            "229/229 [==============================] - 81s 352ms/step - loss: 1.2477 - accuracy: 0.6361 - val_loss: 1.3991 - val_accuracy: 0.5879\n",
            "Epoch 40/100\n",
            "229/229 [==============================] - 82s 356ms/step - loss: 1.2272 - accuracy: 0.6396 - val_loss: 1.2421 - val_accuracy: 0.6245\n",
            "Epoch 41/100\n",
            "229/229 [==============================] - 80s 347ms/step - loss: 1.2225 - accuracy: 0.6386 - val_loss: 1.2887 - val_accuracy: 0.6321\n",
            "Epoch 42/100\n",
            "229/229 [==============================] - 81s 352ms/step - loss: 1.2023 - accuracy: 0.6530 - val_loss: 1.2312 - val_accuracy: 0.6675\n",
            "Epoch 43/100\n",
            "229/229 [==============================] - 81s 352ms/step - loss: 1.2030 - accuracy: 0.6472 - val_loss: 1.2474 - val_accuracy: 0.6448\n",
            "Epoch 44/100\n",
            "229/229 [==============================] - 80s 349ms/step - loss: 1.1641 - accuracy: 0.6535 - val_loss: 1.1461 - val_accuracy: 0.6802\n",
            "Epoch 45/100\n",
            "229/229 [==============================] - 81s 355ms/step - loss: 1.1458 - accuracy: 0.6600 - val_loss: 1.2189 - val_accuracy: 0.6536\n",
            "Epoch 46/100\n",
            "229/229 [==============================] - 82s 356ms/step - loss: 1.1562 - accuracy: 0.6583 - val_loss: 1.2233 - val_accuracy: 0.6700\n",
            "Epoch 47/100\n",
            "229/229 [==============================] - 83s 360ms/step - loss: 1.1144 - accuracy: 0.6698 - val_loss: 1.2523 - val_accuracy: 0.6814\n",
            "Epoch 48/100\n",
            "229/229 [==============================] - 79s 346ms/step - loss: 1.1135 - accuracy: 0.6695 - val_loss: 1.2433 - val_accuracy: 0.6523\n",
            "Epoch 49/100\n",
            "229/229 [==============================] - 83s 363ms/step - loss: 1.1139 - accuracy: 0.6760 - val_loss: 1.2343 - val_accuracy: 0.6713\n",
            "Epoch 50/100\n",
            "229/229 [==============================] - 83s 360ms/step - loss: 1.0874 - accuracy: 0.6798 - val_loss: 1.2832 - val_accuracy: 0.6372\n",
            "Epoch 51/100\n",
            "229/229 [==============================] - 82s 360ms/step - loss: 1.1025 - accuracy: 0.6745 - val_loss: 1.2147 - val_accuracy: 0.6713\n",
            "Epoch 52/100\n",
            "229/229 [==============================] - 81s 352ms/step - loss: 1.1002 - accuracy: 0.6738 - val_loss: 1.2009 - val_accuracy: 0.6688\n",
            "Epoch 53/100\n",
            "229/229 [==============================] - 81s 352ms/step - loss: 1.0481 - accuracy: 0.6886 - val_loss: 1.2260 - val_accuracy: 0.6650\n",
            "Epoch 54/100\n",
            "229/229 [==============================] - 82s 357ms/step - loss: 1.0698 - accuracy: 0.6819 - val_loss: 1.1914 - val_accuracy: 0.6726\n",
            "Epoch 55/100\n",
            "229/229 [==============================] - 81s 353ms/step - loss: 1.0553 - accuracy: 0.6897 - val_loss: 1.1429 - val_accuracy: 0.6789\n",
            "Epoch 56/100\n",
            "229/229 [==============================] - 81s 353ms/step - loss: 1.0604 - accuracy: 0.6915 - val_loss: 1.2037 - val_accuracy: 0.6802\n",
            "Epoch 57/100\n",
            "229/229 [==============================] - 81s 353ms/step - loss: 1.0410 - accuracy: 0.6872 - val_loss: 1.1594 - val_accuracy: 0.6802\n",
            "Epoch 58/100\n",
            "229/229 [==============================] - 81s 353ms/step - loss: 1.0234 - accuracy: 0.6953 - val_loss: 1.3598 - val_accuracy: 0.6561\n",
            "Epoch 59/100\n",
            "229/229 [==============================] - 81s 353ms/step - loss: 1.0162 - accuracy: 0.6986 - val_loss: 1.2012 - val_accuracy: 0.6789\n",
            "Epoch 60/100\n",
            "229/229 [==============================] - 82s 356ms/step - loss: 1.0275 - accuracy: 0.7002 - val_loss: 1.2024 - val_accuracy: 0.6561\n",
            "Epoch 61/100\n",
            "229/229 [==============================] - 81s 353ms/step - loss: 0.9931 - accuracy: 0.7065 - val_loss: 1.2028 - val_accuracy: 0.6839\n",
            "Epoch 62/100\n",
            "229/229 [==============================] - 81s 354ms/step - loss: 1.0182 - accuracy: 0.7008 - val_loss: 1.3245 - val_accuracy: 0.6688\n",
            "Epoch 63/100\n",
            "229/229 [==============================] - 81s 353ms/step - loss: 1.0100 - accuracy: 0.7008 - val_loss: 1.2183 - val_accuracy: 0.6802\n",
            "Epoch 64/100\n",
            "229/229 [==============================] - 79s 345ms/step - loss: 1.0094 - accuracy: 0.6957 - val_loss: 1.1236 - val_accuracy: 0.6814\n",
            "Epoch 65/100\n",
            "229/229 [==============================] - 80s 347ms/step - loss: 0.9566 - accuracy: 0.7088 - val_loss: 1.1452 - val_accuracy: 0.6827\n",
            "Epoch 66/100\n",
            "229/229 [==============================] - 82s 357ms/step - loss: 0.9568 - accuracy: 0.7128 - val_loss: 1.1677 - val_accuracy: 0.6751\n",
            "Epoch 67/100\n",
            "229/229 [==============================] - 82s 356ms/step - loss: 0.9609 - accuracy: 0.7156 - val_loss: 1.2682 - val_accuracy: 0.6789\n",
            "Epoch 68/100\n",
            "229/229 [==============================] - 80s 349ms/step - loss: 0.9369 - accuracy: 0.7202 - val_loss: 1.1914 - val_accuracy: 0.6966\n",
            "Epoch 69/100\n",
            "229/229 [==============================] - 81s 355ms/step - loss: 0.9370 - accuracy: 0.7173 - val_loss: 1.2079 - val_accuracy: 0.6903\n",
            "Epoch 70/100\n",
            "229/229 [==============================] - 83s 363ms/step - loss: 0.9360 - accuracy: 0.7232 - val_loss: 1.3100 - val_accuracy: 0.6675\n",
            "Epoch 71/100\n",
            "229/229 [==============================] - 81s 355ms/step - loss: 0.9363 - accuracy: 0.7238 - val_loss: 1.1527 - val_accuracy: 0.6827\n",
            "Epoch 72/100\n",
            "229/229 [==============================] - 81s 353ms/step - loss: 0.9234 - accuracy: 0.7271 - val_loss: 1.1157 - val_accuracy: 0.7004\n",
            "Epoch 73/100\n",
            "229/229 [==============================] - 81s 354ms/step - loss: 0.9466 - accuracy: 0.7190 - val_loss: 1.1788 - val_accuracy: 0.6776\n",
            "Epoch 74/100\n",
            "229/229 [==============================] - 83s 362ms/step - loss: 0.9099 - accuracy: 0.7290 - val_loss: 1.3411 - val_accuracy: 0.6498\n",
            "Epoch 75/100\n",
            "229/229 [==============================] - 82s 358ms/step - loss: 0.9145 - accuracy: 0.7290 - val_loss: 1.1659 - val_accuracy: 0.7042\n",
            "Epoch 76/100\n",
            "229/229 [==============================] - 80s 349ms/step - loss: 0.8747 - accuracy: 0.7401 - val_loss: 1.1905 - val_accuracy: 0.6726\n",
            "Epoch 77/100\n",
            "229/229 [==============================] - 81s 354ms/step - loss: 0.9331 - accuracy: 0.7206 - val_loss: 1.0834 - val_accuracy: 0.6776\n",
            "Epoch 78/100\n",
            "229/229 [==============================] - 82s 357ms/step - loss: 0.8767 - accuracy: 0.7380 - val_loss: 1.0327 - val_accuracy: 0.7042\n",
            "Epoch 79/100\n",
            "229/229 [==============================] - 80s 348ms/step - loss: 0.8766 - accuracy: 0.7416 - val_loss: 1.1764 - val_accuracy: 0.6839\n",
            "Epoch 80/100\n",
            "229/229 [==============================] - 79s 343ms/step - loss: 0.8650 - accuracy: 0.7469 - val_loss: 1.0385 - val_accuracy: 0.7130\n",
            "Epoch 81/100\n",
            "229/229 [==============================] - 79s 346ms/step - loss: 0.8865 - accuracy: 0.7382 - val_loss: 1.0629 - val_accuracy: 0.7143\n",
            "Epoch 82/100\n",
            "229/229 [==============================] - 80s 347ms/step - loss: 0.8641 - accuracy: 0.7439 - val_loss: 1.1282 - val_accuracy: 0.7042\n",
            "Epoch 83/100\n",
            "229/229 [==============================] - 82s 356ms/step - loss: 0.8853 - accuracy: 0.7406 - val_loss: 1.2780 - val_accuracy: 0.6776\n",
            "Epoch 84/100\n",
            "229/229 [==============================] - 82s 356ms/step - loss: 0.8445 - accuracy: 0.7479 - val_loss: 1.0577 - val_accuracy: 0.7092\n",
            "Epoch 85/100\n",
            "229/229 [==============================] - 84s 368ms/step - loss: 0.8636 - accuracy: 0.7445 - val_loss: 1.0741 - val_accuracy: 0.7155\n",
            "Epoch 86/100\n",
            "229/229 [==============================] - 85s 370ms/step - loss: 0.8559 - accuracy: 0.7434 - val_loss: 1.1071 - val_accuracy: 0.7244\n",
            "Epoch 87/100\n",
            "229/229 [==============================] - 84s 366ms/step - loss: 0.8279 - accuracy: 0.7534 - val_loss: 1.0615 - val_accuracy: 0.6966\n",
            "Epoch 88/100\n",
            "229/229 [==============================] - 81s 351ms/step - loss: 0.8395 - accuracy: 0.7486 - val_loss: 1.1803 - val_accuracy: 0.6941\n",
            "Epoch 89/100\n",
            "229/229 [==============================] - 79s 342ms/step - loss: 0.8113 - accuracy: 0.7546 - val_loss: 1.2115 - val_accuracy: 0.7130\n",
            "Epoch 90/100\n",
            "229/229 [==============================] - 78s 342ms/step - loss: 0.8360 - accuracy: 0.7491 - val_loss: 1.0543 - val_accuracy: 0.7168\n",
            "Epoch 91/100\n",
            "229/229 [==============================] - 80s 350ms/step - loss: 0.8132 - accuracy: 0.7542 - val_loss: 1.2463 - val_accuracy: 0.7004\n",
            "Epoch 92/100\n",
            "229/229 [==============================] - 79s 346ms/step - loss: 0.8179 - accuracy: 0.7564 - val_loss: 1.2062 - val_accuracy: 0.6814\n",
            "Epoch 93/100\n",
            "229/229 [==============================] - 79s 343ms/step - loss: 0.8065 - accuracy: 0.7554 - val_loss: 1.1518 - val_accuracy: 0.7193\n",
            "Epoch 94/100\n",
            "229/229 [==============================] - 81s 353ms/step - loss: 0.8252 - accuracy: 0.7566 - val_loss: 1.1936 - val_accuracy: 0.7092\n",
            "Epoch 95/100\n",
            "229/229 [==============================] - 80s 348ms/step - loss: 0.8182 - accuracy: 0.7569 - val_loss: 1.1271 - val_accuracy: 0.7080\n",
            "Epoch 96/100\n",
            "229/229 [==============================] - 79s 345ms/step - loss: 0.8006 - accuracy: 0.7613 - val_loss: 1.1122 - val_accuracy: 0.7155\n",
            "Epoch 97/100\n",
            "229/229 [==============================] - 79s 343ms/step - loss: 0.8014 - accuracy: 0.7561 - val_loss: 1.1206 - val_accuracy: 0.7155\n",
            "Epoch 98/100\n",
            "229/229 [==============================] - 81s 355ms/step - loss: 0.7620 - accuracy: 0.7720 - val_loss: 1.1878 - val_accuracy: 0.7029\n",
            "Epoch 99/100\n",
            "229/229 [==============================] - 79s 346ms/step - loss: 0.8035 - accuracy: 0.7617 - val_loss: 1.1217 - val_accuracy: 0.7042\n",
            "Epoch 100/100\n",
            "229/229 [==============================] - 80s 347ms/step - loss: 0.7948 - accuracy: 0.7660 - val_loss: 1.1815 - val_accuracy: 0.7181\n"
          ]
        },
        {
          "output_type": "stream",
          "name": "stderr",
          "text": [
            "/usr/local/lib/python3.10/dist-packages/keras/src/engine/training.py:3103: UserWarning: You are saving your model as an HDF5 file via `model.save()`. This file format is considered legacy. We recommend using instead the native Keras format, e.g. `model.save('my_model.keras')`.\n",
            "  saving_api.save_model(\n"
          ]
        }
      ]
    },
    {
      "cell_type": "code",
      "source": [
        "from keras.models import load_model\n",
        "from keras.preprocessing import image\n",
        "import numpy as np\n",
        "\n",
        "# Load the trained model\n",
        "model_path = 'new_anime_classificationL'  # Replace with the actual path to your model\n",
        "loaded_model = load_model(model_path)\n",
        "\n",
        "# Function to preprocess the input image\n",
        "def preprocess_image(img_path):\n",
        "    img = image.load_img(img_path, target_size=(128, 128))\n",
        "    img_array = image.img_to_array(img)\n",
        "    img_array = np.expand_dims(img_array, axis=0)\n",
        "    return img_array / 255.0\n",
        "\n",
        "# Function to make predictions\n",
        "def predict_image(model, img_path):\n",
        "    processed_image = preprocess_image(img_path)\n",
        "    prediction = model.predict(processed_image)\n",
        "    return prediction\n",
        "\n",
        "# Replace 'your_image.jpg' with the actual path to the image you want to test\n",
        "image_path = 'misa4.jpg'\n",
        "result = predict_image(loaded_model, image_path)\n",
        "# Assuming you have 44 classes, replace this with your actual class names\n",
        "class_names = ['Anya_Forger', 'Aquamarine_Hoshino', 'Ayaka_Genshin_Impact', 'Boa_Hancock', 'Charlotte_Genshin_Impact', 'Damian_Desmond', 'Dazai_Osamu_BSD', 'Ganyu_genshin', 'Gojo_Satoru', 'Jett_Valorant', 'Kafka_Honkai_Star_Rail', 'Keqing_genshin', 'Killjoy_Valorant', 'Kobo_kanaeru', 'Kugisaki_Nobara', 'Loid_Forger', 'Luffy_D_Monkey', 'Midoriya_Izuku', 'Minato_Aqua', 'Misa_Amane', 'Mitsuri_Kanroji', 'Nico_Robin', 'Nier_Automata_9S', 'Nier_Automata_A2', 'Raiden_Shogun_Genshin_Impact', 'Ruby_Hoshino', 'Sakura_Haruno', 'Todoroki_Shoto', 'Tokisaki_Kurumi', 'Uraraka_Ochako', 'Wanderer', 'Yor_Forger', 'Yuri_Briar', 'Zerotwo', 'Zoro', 'amelia_watson', 'arima_kousei', 'gawr_gura', 'hoshino_ai', 'hutao_genshin', 'mikasa', 'tanjiro', 'violet_evergarden', 'zeta_hololive']\n",
        "\n",
        "# Get the predicted class index\n",
        "predicted_class_index = np.argmax(result)\n",
        "predicted_class = class_names[predicted_class_index]\n",
        "\n",
        "print(f\"The predicted class is: {predicted_class}\")"
      ],
      "metadata": {
        "id": "t3sRJwYwoq9s"
      },
      "execution_count": null,
      "outputs": []
    }
  ]
}